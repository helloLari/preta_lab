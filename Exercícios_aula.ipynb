{
  "nbformat": 4,
  "nbformat_minor": 0,
  "metadata": {
    "colab": {
      "provenance": [],
      "toc_visible": true,
      "include_colab_link": true
    },
    "kernelspec": {
      "name": "python3",
      "display_name": "Python 3"
    },
    "language_info": {
      "name": "python"
    }
  },
  "cells": [
    {
      "cell_type": "markdown",
      "metadata": {
        "id": "view-in-github",
        "colab_type": "text"
      },
      "source": [
        "<a href=\"https://colab.research.google.com/github/helloLari/preta_lab/blob/main/Exerc%C3%ADcios_aula.ipynb\" target=\"_parent\"><img src=\"https://colab.research.google.com/assets/colab-badge.svg\" alt=\"Open In Colab\"/></a>"
      ]
    },
    {
      "cell_type": "markdown",
      "source": [
        "*Para a realização desses exercícios, peço que configurem para não aparecer sugestões da IA Gemini*"
      ],
      "metadata": {
        "id": "pAFFoVXs4XQo"
      }
    },
    {
      "cell_type": "markdown",
      "source": [
        "### A) **Utilizando variáveis, gere uma apresentação curta de sí mesma, como nesse exemplo**:\n",
        "\n"
      ],
      "metadata": {
        "id": "rZbJ_1LJ2DLf"
      }
    },
    {
      "cell_type": "code",
      "source": [
        "# Oi! Eu sou a Amanda, tenho 30 anos, moro em Salvador e meu signo é Gêmeos"
      ],
      "metadata": {
        "id": "ibKRn-P37-b2"
      },
      "execution_count": null,
      "outputs": []
    },
    {
      "cell_type": "code",
      "source": [
        "# Dica: As variáveis podem ser algo como:\n",
        "nome = 'Amanda'\n",
        "idade = 30\n",
        "cidade = 'Ssalvador'\n",
        "signo = 'Gêmeos'"
      ],
      "metadata": {
        "id": "n0Rjb0s_2ula"
      },
      "execution_count": null,
      "outputs": []
    },
    {
      "cell_type": "code",
      "source": [
        "nome = input('Qual é o seu nome? ')\n",
        "idade = input('Qual é a sua idade? ')\n",
        "cidade = input('Qual é a sua cidade? ')\n",
        "signo = input('Qual é o seu signo? ')\n",
        "\n",
        "print(f'Oi! Eu sou a {nome}, tenho {idade} anos, moro em {cidade} e meu signo é {signo}.')"
      ],
      "metadata": {
        "id": "kil7YL7Z3AoV",
        "colab": {
          "base_uri": "https://localhost:8080/"
        },
        "outputId": "74ce95ea-d3af-4cbf-d080-d4d9b89a006f"
      },
      "execution_count": null,
      "outputs": [
        {
          "output_type": "stream",
          "name": "stdout",
          "text": [
            "Qual é o seu nome? Larisse\n",
            "Qual é a sua idade? 32\n",
            "Qual é a sua cidade? São Paulo\n",
            "Qual é o seu signo? Sagitário\n",
            "Oi! Eu sou a Larisse, tenho 32 anos, moro em São Paulo e meu signo é Sagitário.\n"
          ]
        }
      ]
    },
    {
      "cell_type": "markdown",
      "source": [
        "\n",
        "\n",
        "---\n",
        "\n"
      ],
      "metadata": {
        "id": "dgkbPq2JK7ES"
      }
    },
    {
      "cell_type": "markdown",
      "source": [
        "### B) **Qual o maior valor dessa lista de gastos?**\n",
        "\n",
        "\n",
        "```\n",
        "# Isto está formatado como código\n",
        "```\n",
        "\n",
        "\n",
        "> Adicionar blockquote\n",
        "\n",
        "\n",
        "\n"
      ],
      "metadata": {
        "id": "jQnXX8Ii348J"
      }
    },
    {
      "cell_type": "code",
      "source": [
        "gastos = [10.60, 11.99, 5.50, 10, 45.99, 7.50, 4.00]"
      ],
      "metadata": {
        "id": "8CeAhHTf9aYk",
        "colab": {
          "base_uri": "https://localhost:8080/"
        },
        "outputId": "7856bf3f-d770-41a7-e981-8cb867f9787f"
      },
      "execution_count": null,
      "outputs": [
        {
          "output_type": "stream",
          "name": "stdout",
          "text": [
            "O maior valor dessa lista de gastos é: R$ 45.99\n"
          ]
        }
      ]
    },
    {
      "cell_type": "code",
      "source": [
        "# O valor mais caro é: 45.99"
      ],
      "metadata": {
        "id": "EWRw9Zkn-RWL"
      },
      "execution_count": null,
      "outputs": []
    },
    {
      "cell_type": "code",
      "source": [
        "# Resposta aqui\n",
        "\n",
        "maior_valor = max(gastos)\n",
        "\n",
        "print(f\"O maior valor dessa lista de gastos é: R$ {maior_valor:.2f}\")\n",
        "\n"
      ],
      "metadata": {
        "id": "muN_hCwu-dWp",
        "colab": {
          "base_uri": "https://localhost:8080/"
        },
        "outputId": "16ae07eb-2cdf-42ab-e05f-c0cdb493983a"
      },
      "execution_count": null,
      "outputs": [
        {
          "output_type": "stream",
          "name": "stdout",
          "text": [
            "O maior valor dessa lista de gastos é: R$ 45.99\n"
          ]
        }
      ]
    },
    {
      "cell_type": "markdown",
      "source": [
        "\n",
        "\n",
        "---\n",
        "\n"
      ],
      "metadata": {
        "id": "skCyGhKG-gpv"
      }
    },
    {
      "cell_type": "markdown",
      "source": [
        "### C) **Qual a média dessa lista?**:\n",
        "\n"
      ],
      "metadata": {
        "id": "7-fmR1dU9Lmm"
      }
    },
    {
      "cell_type": "code",
      "source": [
        "numeros = [10,80,50,90,70]"
      ],
      "metadata": {
        "id": "_x74pbVn7t91"
      },
      "execution_count": null,
      "outputs": []
    },
    {
      "cell_type": "code",
      "source": [
        "# A média dos números é: 60.0"
      ],
      "metadata": {
        "id": "QGJ9F4go8nmt"
      },
      "execution_count": null,
      "outputs": []
    },
    {
      "cell_type": "code",
      "source": [
        "# Resposta aqui\n",
        "media = sum(numeros) / len(numeros)\n",
        "\n",
        "print(f\"A média dos valores é: {media:.2f}\")\n"
      ],
      "metadata": {
        "id": "C8SOjNdB8Ptz",
        "colab": {
          "base_uri": "https://localhost:8080/"
        },
        "outputId": "9055a5c9-36dc-4f51-9f46-ceabf8a035fb"
      },
      "execution_count": null,
      "outputs": [
        {
          "output_type": "stream",
          "name": "stdout",
          "text": [
            "A média dos valores é: 60.00\n"
          ]
        }
      ]
    },
    {
      "cell_type": "markdown",
      "source": [
        "\n",
        "\n",
        "---\n",
        "\n"
      ],
      "metadata": {
        "id": "A5riB5veK95b"
      }
    },
    {
      "cell_type": "markdown",
      "source": [
        "### D) **Qual a média final dessas notas, qual a maior e qual a menor nota**\n",
        "\n"
      ],
      "metadata": {
        "id": "goAxWssZ_N5a"
      }
    },
    {
      "cell_type": "code",
      "source": [
        "notas = [10,7.8, 6, 8, 9]\n"
      ],
      "metadata": {
        "id": "_IY5S15p_YIR"
      },
      "execution_count": null,
      "outputs": []
    },
    {
      "cell_type": "code",
      "source": [
        "# A média final é 8.16. A sua maior nota foi 10 e a menor nota foi 6!\n",
        "\n",
        "maior_valor = max(notas)\n",
        "menor_valor = min(notas)\n",
        "media = sum(notas) / len(notas)\n",
        "\n",
        "print(f\"O maior valor dessa lista de notas é: R${maior_valor: }, A menor nota é:{menor_valor: }, A média dos valores é: {media:.2f}\")"
      ],
      "metadata": {
        "id": "Xa-J0VSI_6YZ",
        "colab": {
          "base_uri": "https://localhost:8080/"
        },
        "outputId": "048c4619-0ef6-4413-8e75-1d590944849f"
      },
      "execution_count": null,
      "outputs": [
        {
          "output_type": "stream",
          "name": "stdout",
          "text": [
            "O maior valor dessa lista de notas é: R$ 10, A menor nota é: 6, A média dos valores é: 8.16\n"
          ]
        }
      ]
    },
    {
      "cell_type": "markdown",
      "source": [
        "\n",
        "\n",
        "---\n",
        "\n"
      ],
      "metadata": {
        "id": "ifwPeyZQK-2l"
      }
    },
    {
      "cell_type": "markdown",
      "source": [
        "### E) **Com as mesmas informações do exercício anterior, apresente se a aluna foi APROVADA ou REPROVADA**"
      ],
      "metadata": {
        "id": "p8L7DdPbApDN"
      }
    },
    {
      "cell_type": "markdown",
      "source": [
        "*  Se a média for igual ou superior a 6 apresentar a mensagem \"Parabéns, você foi APROVADA!\"\n",
        "*  Se a média for menor, apresentar \"Não foi dessa vez, infelizmente você foi REPROVADA!\""
      ],
      "metadata": {
        "id": "kb21A5Z1A7CU"
      }
    },
    {
      "cell_type": "code",
      "source": [
        "# Parabéns você foi aprovada!"
      ],
      "metadata": {
        "id": "InjCDLOZBZhC"
      },
      "execution_count": null,
      "outputs": []
    },
    {
      "cell_type": "code",
      "source": [
        "# Resposta aqui\n",
        "\n",
        "media = sum(notas) / len(notas)\n",
        "if media > 6:\n",
        "    print('Parabéns você foi Aprovada!')\n",
        "else:\n",
        "    print('Não foi dessa vez, Reprovado')\n",
        "\n",
        "print(media)"
      ],
      "metadata": {
        "id": "g2nUuyoUalog",
        "colab": {
          "base_uri": "https://localhost:8080/"
        },
        "outputId": "87016b2b-9e77-4996-91ba-a0875c63ecb9"
      },
      "execution_count": null,
      "outputs": [
        {
          "output_type": "stream",
          "name": "stdout",
          "text": [
            "Parabéns você foi Aprovada!\n",
            "8.16\n"
          ]
        }
      ]
    },
    {
      "cell_type": "markdown",
      "source": [
        "\n",
        "\n",
        "---\n",
        "\n"
      ],
      "metadata": {
        "id": "X5Ya3MHRK_4N"
      }
    },
    {
      "cell_type": "markdown",
      "source": [
        "### F) **Desenvolva um programa que realize as quatro operações básicas (adição, subtração, multiplicação e divisão) entre dois números. A usuária deve escolher a operação e inserir os valores**"
      ],
      "metadata": {
        "id": "YT8vTnW2ENVL"
      }
    },
    {
      "cell_type": "code",
      "source": [
        "#Digite o primeiro número: 10\n",
        "#Digite o segundo número: 20\n",
        "#Digite a operação (+, -, *, /): +\n",
        "#Resultado: 30.0"
      ],
      "metadata": {
        "id": "gpmOjgseE4aD"
      },
      "execution_count": null,
      "outputs": []
    },
    {
      "cell_type": "code",
      "source": [
        "# Resposta aqui\n",
        "a = float(input(\"Primeiro número:\"))\n",
        "b = float(input(\"Segundo número:\"))\n",
        "operação = input(\"Digite a operação a realizar (+,-,* ou /):\")\n",
        "if operação == \"+\":\n",
        "    resultado = a + b\n",
        "elif operação == \"-\":\n",
        "    resultado = a - b\n",
        "elif operação == \"*\":\n",
        "    resultado = a * b\n",
        "elif operação == \"/\":\n",
        "    resultado = a / b\n",
        "else:\n",
        "    print(\"Operação inválida!\")\n",
        "    resultado = 0\n",
        "print(\"Resultado: \", resultado)"
      ],
      "metadata": {
        "id": "iTu22D0VEinD",
        "colab": {
          "base_uri": "https://localhost:8080/"
        },
        "outputId": "e6dde48f-8903-46c4-fd9f-7e98c8e6eb7b"
      },
      "execution_count": null,
      "outputs": [
        {
          "output_type": "stream",
          "name": "stdout",
          "text": [
            "Primeiro número:10\n",
            "Segundo número:20\n",
            "Digite a operação a realizar (+,-,* ou /):+\n",
            "Resultado:  30.0\n"
          ]
        }
      ]
    },
    {
      "cell_type": "markdown",
      "source": [
        "\n",
        "\n",
        "---\n",
        "\n"
      ],
      "metadata": {
        "id": "X0ZvZeNCLA04"
      }
    },
    {
      "cell_type": "markdown",
      "source": [
        "### G) **Faça um Programa que leia três números e mostre-os em ordem decrescente.**\n",
        "\n"
      ],
      "metadata": {
        "id": "vdf5rEiZF5KM"
      }
    },
    {
      "cell_type": "code",
      "source": [
        "# Resposta aqui\n",
        "num1 = float(input(\"Digite o primeiro número: \"))\n",
        "num2 = float(input(\"Digite o segundo número: \"))\n",
        "num3 = float(input(\"Digite o terceiro número: \"))\n",
        "\n",
        "numeros = [num1, num2, num3]\n",
        "numeros.sort(reverse=True)\n",
        "\n",
        "print(\"Os números em ordem decrescente são:\")\n",
        "for numero in numeros:\n",
        "    print(numero)"
      ],
      "metadata": {
        "id": "PMPrtPEOF7eE",
        "colab": {
          "base_uri": "https://localhost:8080/"
        },
        "outputId": "c4ac32ce-afb9-4d98-c961-ea9df2980b24"
      },
      "execution_count": null,
      "outputs": [
        {
          "output_type": "stream",
          "name": "stdout",
          "text": [
            "Digite o primeiro número: 2\n",
            "Digite o segundo número: 6\n",
            "Digite o terceiro número: 9\n",
            "Os números em ordem decrescente são:\n",
            "9.0\n",
            "6.0\n",
            "2.0\n"
          ]
        }
      ]
    },
    {
      "cell_type": "markdown",
      "source": [
        "\n",
        "\n",
        "---\n",
        "\n"
      ],
      "metadata": {
        "id": "lX9BdmxyLBtt"
      }
    },
    {
      "cell_type": "markdown",
      "source": [
        "### H) **Faça uma função que retorne o reverso de um número inteiro informado. Por exemplo: 153 -> 351**"
      ],
      "metadata": {
        "id": "p0A-lta0Gmcq"
      }
    },
    {
      "cell_type": "code",
      "source": [
        "# Resposta aqui\n",
        "def reverso_numero(numero):\n",
        "    # Converte o número para string\n",
        "    numero_str = str(numero)\n",
        "\n",
        "    # Reverte a string\n",
        "    reverso_str = numero_str[::-1]\n",
        "\n",
        "    # Converte de volta para inteiro\n",
        "    reverso_num = int(reverso_str)\n",
        "\n",
        "    return reverso_num\n",
        "\n",
        "# Testando a função\n",
        "numero = int(input(\"Digite um número inteiro: \"))\n",
        "resultado = reverso_numero(numero)\n",
        "print(f\"O reverso do número {numero} é {resultado}.\")\n"
      ],
      "metadata": {
        "id": "0Ppk5OneHom-",
        "colab": {
          "base_uri": "https://localhost:8080/"
        },
        "outputId": "e826f61a-3d7c-4429-cf73-3ade541e7139"
      },
      "execution_count": null,
      "outputs": [
        {
          "output_type": "stream",
          "name": "stdout",
          "text": [
            "Digite um número inteiro: 123\n",
            "O reverso do número 123 é 321.\n"
          ]
        }
      ]
    },
    {
      "cell_type": "markdown",
      "source": [
        "\n",
        "\n",
        "---\n",
        "\n"
      ],
      "metadata": {
        "id": "GWlXyhTlLCii"
      }
    },
    {
      "cell_type": "markdown",
      "source": [
        "### I) **Faça um programa que solicite o nome do usuário e imprima-o em formato de escada.**"
      ],
      "metadata": {
        "id": "4DKAX96gKJZv"
      }
    },
    {
      "cell_type": "code",
      "source": [
        "#Digite seu nome: amanda\n",
        "#a\n",
        "#am\n",
        "#ama\n",
        "#aman\n",
        "#amand\n",
        "#amanda"
      ],
      "metadata": {
        "id": "yRsRy144KKds"
      },
      "execution_count": null,
      "outputs": []
    },
    {
      "cell_type": "code",
      "source": [
        "# Resposta aqui\n",
        "nome = input(\"Digite seu nome: \")\n",
        "\n",
        "for i in range(1, len(nome) + 1):\n",
        "    print(nome[:i])"
      ],
      "metadata": {
        "id": "N2ohocU_KO08",
        "colab": {
          "base_uri": "https://localhost:8080/"
        },
        "outputId": "c0d8ce53-afcb-4863-dc2f-1e7ba9b842cb"
      },
      "execution_count": null,
      "outputs": [
        {
          "output_type": "stream",
          "name": "stdout",
          "text": [
            "Digite seu nome: larisse\n",
            "l\n",
            "la\n",
            "lar\n",
            "lari\n",
            "laris\n",
            "lariss\n",
            "larisse\n"
          ]
        }
      ]
    }
  ]
}