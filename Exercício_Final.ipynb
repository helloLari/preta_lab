{
  "nbformat": 4,
  "nbformat_minor": 0,
  "metadata": {
    "colab": {
      "provenance": [],
      "include_colab_link": true
    },
    "kernelspec": {
      "name": "python3",
      "display_name": "Python 3"
    },
    "language_info": {
      "name": "python"
    }
  },
  "cells": [
    {
      "cell_type": "markdown",
      "metadata": {
        "id": "view-in-github",
        "colab_type": "text"
      },
      "source": [
        "<a href=\"https://colab.research.google.com/github/helloLari/preta_lab/blob/main/Exerc%C3%ADcio_Final.ipynb\" target=\"_parent\"><img src=\"https://colab.research.google.com/assets/colab-badge.svg\" alt=\"Open In Colab\"/></a>"
      ]
    },
    {
      "cell_type": "markdown",
      "source": [
        "# Contagem de Medalhas\n",
        "\n",
        "Crie um programa que receba o número de medalhas de ouro, prata e bronze de um país nas Olimpíadas e calcule o total de medalhas.\n",
        "Quando escrever 'sair', o programa deverá encerrar e mostrar na tela o ranking de medalhas no formato:"
      ],
      "metadata": {
        "id": "RQN1e5FZY6SZ"
      }
    },
    {
      "cell_type": "code",
      "source": [
        "#Ranking de medalhas:\n",
        "#Brasil: 7 medalhas\n",
        "#França: 6 medalhas\n",
        "#Argentina: 3 medalhas"
      ],
      "metadata": {
        "id": "gCq_KLHzZSzb"
      },
      "execution_count": null,
      "outputs": []
    },
    {
      "cell_type": "code",
      "execution_count": 9,
      "metadata": {
        "id": "AJJhjxiPTd5s",
        "outputId": "e8d8c0b5-371d-4844-fd8e-f4861c0b38d8",
        "colab": {
          "base_uri": "https://localhost:8080/"
        }
      },
      "outputs": [
        {
          "output_type": "stream",
          "name": "stdout",
          "text": [
            "Digite o nome do país (ou 'sair' para encerrar): Brasil\n",
            "Digite o número de medalhas de ouro para Brasil: 50\n",
            "Digite o número de medalhas de prata para Brasil: 40\n",
            "Digite o número de medalhas de bronze para Brasil: 50\n",
            "Digite o nome do país (ou 'sair' para encerrar): EUA\n",
            "Digite o número de medalhas de ouro para EUA: 20\n",
            "Digite o número de medalhas de prata para EUA: 30\n",
            "Digite o número de medalhas de bronze para EUA: 40\n",
            "Digite o nome do país (ou 'sair' para encerrar): França\n",
            "Digite o número de medalhas de ouro para França: 15\n",
            "Digite o número de medalhas de prata para França: 25\n",
            "Digite o número de medalhas de bronze para França: 45\n",
            "Digite o nome do país (ou 'sair' para encerrar): sair\n",
            "\n",
            "Ranking de Medalhas:\n",
            "Brasil: 50 ouro(s), 40 prata(s), 50 bronze(s) - Total: 140 medalhas\n",
            "EUA: 20 ouro(s), 30 prata(s), 40 bronze(s) - Total: 90 medalhas\n",
            "França: 15 ouro(s), 25 prata(s), 45 bronze(s) - Total: 85 medalhas\n"
          ]
        }
      ],
      "source": [
        "# Resposta aqui\n",
        "\n",
        "ranking = {}\n",
        "def adicionar_medalhas(pais):\n",
        "    # Solicita o número de medalhas de ouro, prata e bronze\n",
        "    try:\n",
        "        ouro = int(input(f\"Digite o número de medalhas de ouro para {pais}: \"))\n",
        "        prata = int(input(f\"Digite o número de medalhas de prata para {pais}: \"))\n",
        "        bronze = int(input(f\"Digite o número de medalhas de bronze para {pais}: \"))\n",
        "    except ValueError:\n",
        "        print(\"Por favor, insira números válidos.\")\n",
        "        return\n",
        "\n",
        "    ranking[pais] = {'ouro': ouro, 'prata': prata, 'bronze': bronze}\n",
        "\n",
        "while True:\n",
        "    pais = input(\"Digite o nome do país (ou 'sair' para encerrar): \")\n",
        "\n",
        "    if pais.lower() == 'sair':\n",
        "        break\n",
        "\n",
        "    adicionar_medalhas(pais)\n",
        "\n",
        "# Ordena o ranking por total de medalhas em ordem decrescente, e por ouro em ordem decrescente em caso de empate\n",
        "ranking_ordenado = sorted(ranking.items(), key=lambda item: (sum(item[1].values()), item[1]['ouro']), reverse=True)\n",
        "\n",
        "# Exibe o ranking de medalhas\n",
        "print(\"\\nRanking de Medalhas:\")\n",
        "for pais, medalhas in ranking_ordenado:\n",
        "    total = medalhas['ouro'] + medalhas['prata'] + medalhas['bronze']\n",
        "    print(f\"{pais}: {medalhas['ouro']} ouro(s), {medalhas['prata']} prata(s), {medalhas['bronze']} bronze(s) - Total: {total} medalhas\")\n"
      ]
    }
  ]
}